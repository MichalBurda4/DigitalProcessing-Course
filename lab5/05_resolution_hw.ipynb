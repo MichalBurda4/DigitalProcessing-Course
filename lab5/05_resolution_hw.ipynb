{
  "cells": [
    {
      "cell_type": "markdown",
      "metadata": {
        "collapsed": false,
        "id": "0TjU9o5xEKsO"
      },
      "source": [
        "# Zadanie domowe -- interpolacja dwusześcienna\n",
        "\n",
        "Interpolacja dwusześcienna, to podobnie jak w przypadku interpolacji dwuliniowej, rozszerzenie idei interpolacji jednowymiarowej na dwuwymiarową siatkę.\n",
        "W trakcie jej obliczania wykorzystywane jest 16 pikseli z otoczenia (dla dwuliniowej 4).\n",
        "Skutkuje to zwykle lepszymi wynikami - obraz wyjściowy jest bardziej gładki i z mniejszą liczbą artefaktów.\n",
        "Ceną jest znaczny wzrost złożoności obliczeniowej (zostało to zaobserwowane podczas ćwiczenia).\n",
        "\n",
        "Interpolacja dana jest wzorem:\n",
        "\\begin{equation}\n",
        "I(i,j) = \\sum_{i=0}^{3} \\sum_{j=0}^{3} a_{ij} x^i y^j\n",
        "\\end{equation}\n",
        "\n",
        "Zadanie sprowadza się zatem do wyznaczenia 16 współczynników $a_{ij}$.\n",
        "W tym celu wykorzystuje się, oprócz wartość w puntach $A$ (0,0), $B$ (1 0), $C$ (1,1), $D$ (0,1) (por. rysunek dotyczący interpolacji dwuliniowej), także pochodne cząstkowe $A_x$, $A_y$, $A_{xy}$.\n",
        "Pozwala to rozwiązać układ 16-tu równań.\n",
        "\n",
        "Jeśli zgrupujemy parametry $a_{ij}$:\n",
        "\\begin{equation}\n",
        "a = [ a_{00}~a_{10}~a_{20}~a_{30}~a_{01}~a_{11}~a_{21}~a_{31}~a_{02}~a_{12}~a_{22}~a_{32}~a_{03}~a_{13}~a_{23}~a_{33}]\n",
        "\\end{equation}\n",
        "\n",
        "i przyjmiemy:\n",
        "\\begin{equation}\n",
        "x = [A~B~D~C~A_x~B_x~D_x~C_x~A_y~B_y~D_y~C_y~A_{xy}~B_{xy}~D_{xy}~C_{xy}]^T\n",
        "\\end{equation}\n",
        "\n",
        "To zagadnienie można opisać w postaci równania liniowego:\n",
        "\\begin{equation}\n",
        "Aa = x\n",
        "\\end{equation}\n",
        "gdzie macierz $A^{-1}$ dana jest wzorem:\n",
        "\n",
        "\\begin{equation}\n",
        "A^{-1} =\n",
        "\\begin{bmatrix}\n",
        "1& 0& 0& 0& 0& 0& 0& 0& 0& 0& 0& 0& 0& 0& 0& 0 \\\\\n",
        "0&  0&  0&  0&  1&  0&  0&  0&  0&  0&  0&  0&  0&  0&  0&  0 \\\\\n",
        "-3&  3&  0&  0& -2& -1&  0&  0&  0&  0&  0&  0&  0&  0&  0&  0 \\\\\n",
        "2& -2&  0&  0&  1&  1&  0&  0&  0&  0&  0&  0&  0&  0&  0&  0 \\\\\n",
        "0&  0&  0&  0&  0&  0&  0&  0&  1&  0&  0&  0&  0&  0&  0&  0 \\\\\n",
        "0&  0&  0&  0&  0&  0&  0&  0&  0&  0&  0&  0&  1&  0&  0&  0 \\\\\n",
        "0&  0&  0&  0&  0&  0&  0&  0& -3&  3&  0&  0& -2& -1&  0&  0 \\\\\n",
        "0&  0&  0&  0&  0&  0&  0&  0&  2& -2&  0&  0&  1&  1&  0&  0 \\\\\n",
        "-3&  0&  3&  0&  0&  0&  0&  0& -2&  0& -1&  0&  0&  0&  0&  0 \\\\\n",
        "0&  0&  0&  0& -3&  0&  3&  0&  0&  0&  0&  0& -2&  0& -1&  0 \\\\\n",
        "9& -9& -9&  9&  6&  3& -6& -3&  6& -6&  3& -3&  4&  2&  2&  1 \\\\\n",
        "-6&  6&  6& -6& -3& -3&  3&  3& -4&  4& -2&  2& -2& -2& -1& -1 \\\\\n",
        "2&  0& -2&  0&  0&  0&  0&  0&  1&  0&  1&  0&  0&  0&  0&  0 \\\\\n",
        "0&  0&  0&  0&  2&  0& -2&  0&  0&  0&  0&  0&  1&  0&  1&  0 \\\\\n",
        "-6&  6&  6& -6& -4& -2&  4&  2& -3&  3& -3&  3& -2& -1& -2& -1 \\\\\n",
        "4& -4& -4&  4&  2&  2& -2& -2&  2& -2&  2& -2&  1&  1&  1&  1 \\\\\n",
        "\\end{bmatrix}\n",
        "\\end{equation}\n",
        "\n",
        "Potrzebne w rozważaniach pochodne cząstkowe obliczane są wg. następującego przybliżenia (przykład dla punktu A):\n",
        "\\begin{equation}\n",
        "A_x = \\frac{I(i+1,j) - I(i-1,j)}{2}\n",
        "\\end{equation}\n",
        "\\begin{equation}\n",
        "A_y = \\frac{I(i,j+1) - I(i,j-1)}{2}\n",
        "\\end{equation}\n",
        "\\begin{equation}\n",
        "A_{xy} = \\frac{I(i+1,j+1) - I(i-1,j) - I(i,j-1) + I(i,j)}{4}\n",
        "\\end{equation}\n",
        "\n",
        "## Zadanie\n",
        "\n",
        "Wykorzystując podane informacje zaimplementuj interpolację dwusześcienną.\n",
        "Uwagi:\n",
        "- macierz $A^{-1}$ dostępna jest w pliku *a_invert.py*\n",
        "- trzeba się zastanowić nad potencjalnym wykraczaniem poza zakres obrazka (jak zwykle).\n",
        "\n",
        "Ponadto dokonaj porównania liczby operacji arytmetycznych i dostępów do pamięci koniecznych przy realizacji obu metod interpolacji: dwuliniowej i dwusześciennej."
      ]
    },
    {
      "cell_type": "code",
      "execution_count": null,
      "metadata": {
        "id": "pOvKZfbuEKsR"
      },
      "outputs": [],
      "source": [
        "import cv2\n",
        "import os\n",
        "import requests\n",
        "from matplotlib import pyplot as plt\n",
        "import numpy as np\n",
        "\n",
        "\n",
        "url = \"https://raw.githubusercontent.com/vision-agh/poc_sw/master/05_Resolution/\"\n",
        "\n",
        "fileName = \"ainvert.py\"\n",
        "if not os.path.exists(fileName):\n",
        "    r = requests.get(url + fileName, allow_redirects=True)\n",
        "    open(fileName, 'wb').write(r.content)\n",
        "\n"
      ]
    },
    {
      "cell_type": "code",
      "execution_count": null,
      "metadata": {
        "id": "arz54TiLDlPr"
      },
      "outputs": [],
      "source": [
        "fileNames = [\"parrot.bmp\", \"clock.bmp\", \"chessboard.bmp\", \"bart.png\", \"firetruck.jpg\", \"lena.bmp\"]\n",
        "for fileName in fileNames:\n",
        "  if not os.path.exists(fileName):\n",
        "      r = requests.get(url + fileName, allow_redirects=True)\n",
        "      open(fileName, 'wb').write(r.content)"
      ]
    },
    {
      "cell_type": "code",
      "execution_count": null,
      "metadata": {
        "id": "YhVmnOJ1CMtK"
      },
      "outputs": [],
      "source": [
        "import os\n",
        "print(os.path.exists(\"lena.bmp\"))"
      ]
    },
    {
      "cell_type": "code",
      "source": [
        "import ainvert"
      ],
      "metadata": {
        "id": "E23eNBp-_cbo"
      },
      "execution_count": null,
      "outputs": []
    },
    {
      "cell_type": "code",
      "execution_count": null,
      "metadata": {
        "id": "FE4GcZMsBh6-"
      },
      "outputs": [],
      "source": [
        "def BicubicInterpolation(image, scale_width, scale_height):\n",
        "    # Obliczenie wymiarów nowego obrazu po przeskalowaniu\n",
        "    new_x, new_y = int(image.shape[0] * scale_width), int(image.shape[1] * scale_height)\n",
        "\n",
        "    # Inicjalizacja nowego obrazu jako macierzy zer\n",
        "    new_image = np.zeros((new_x, new_y), dtype=np.float32)\n",
        "\n",
        "    def get_brightness_clamped(x, y):\n",
        "        \"\"\"\n",
        "        Zwraca jasność piksela dla podanych współrzędnych (x, y).\n",
        "        Jeżeli współrzędne wykraczają poza obraz, używa najbliższego piksela na krawędzi.\n",
        "        \"\"\"\n",
        "        x = min(max(x, 0), image.shape[0] - 1)\n",
        "        y = min(max(y, 0), image.shape[1] - 1)\n",
        "        return image[x, y].astype(np.float32)\n",
        "\n",
        "    # Iteracja przez wszystkie piksele nowego obrazu\n",
        "    for i in range(new_x):\n",
        "        for j in range(new_y):\n",
        "            # Przeskalowanie współrzędnych nowego obrazu do współrzędnych obrazu wejściowego\n",
        "            scaled_x, scaled_y = i / scale_width, j / scale_height\n",
        "            x, y = int(scaled_x), int(scaled_y)\n",
        "            dx, dy = scaled_x - x, scaled_y - y  # Różnice między skalowanymi a całkowitymi współrzędnymi\n",
        "            x_nast, y_nast = x + 1, y + 1  # Współrzędne kolejnego piksela\n",
        "\n",
        "            # Pobieranie jasności dla punktów A, B, C, D (wierzchołki siatki interpolacji)\n",
        "            A = get_brightness_clamped(x, y)\n",
        "            B = get_brightness_clamped(x_nast, y)\n",
        "            C = get_brightness_clamped(x_nast, y_nast)\n",
        "            D = get_brightness_clamped(x, y_nast)\n",
        "\n",
        "            # Obliczanie pochodnych cząstkowych dla punktu A\n",
        "            A_x = (get_brightness_clamped(x_nast, y) - get_brightness_clamped(x - 1, y)) / 2\n",
        "            A_y = (get_brightness_clamped(x, y_nast) - get_brightness_clamped(x, y - 1)) / 2\n",
        "            A_xy = (\n",
        "                get_brightness_clamped(x_nast, y_nast)\n",
        "                - get_brightness_clamped(x - 1, y_nast)\n",
        "                - get_brightness_clamped(x, y - 1)\n",
        "                + get_brightness_clamped(x, y)\n",
        "            ) / 4\n",
        "\n",
        "            # Analogicznie obliczamy pochodne dla punktów B, C i D\n",
        "            B_x = (get_brightness_clamped(x_nast + 1, y) - get_brightness_clamped(x_nast - 1, y)) / 2\n",
        "            B_y = (get_brightness_clamped(x_nast, y_nast) - get_brightness_clamped(x_nast, y - 1)) / 2\n",
        "            B_xy = (\n",
        "                get_brightness_clamped(x_nast + 1, y_nast)\n",
        "                - get_brightness_clamped(x_nast - 1, y_nast)\n",
        "                - get_brightness_clamped(x_nast, y - 1)\n",
        "                + get_brightness_clamped(x_nast, y)\n",
        "            ) / 4\n",
        "\n",
        "            C_x = (get_brightness_clamped(x_nast + 1, y_nast) - get_brightness_clamped(x_nast - 1, y_nast)) / 2\n",
        "            C_y = (get_brightness_clamped(x_nast, y_nast + 1) - get_brightness_clamped(x_nast, y_nast - 1)) / 2\n",
        "            C_xy = (\n",
        "                get_brightness_clamped(x_nast + 1, y_nast + 1)\n",
        "                - get_brightness_clamped(x_nast - 1, y_nast + 1)\n",
        "                - get_brightness_clamped(x_nast, y_nast - 1)\n",
        "                + get_brightness_clamped(x_nast, y_nast)\n",
        "            ) / 4\n",
        "\n",
        "            D_x = (get_brightness_clamped(x, y_nast) - get_brightness_clamped(x - 1, y_nast)) / 2\n",
        "            D_y = (get_brightness_clamped(x, y_nast + 1) - get_brightness_clamped(x, y_nast - 1)) / 2\n",
        "            D_xy = (\n",
        "                get_brightness_clamped(x, y_nast + 1)\n",
        "                - get_brightness_clamped(x - 1, y_nast + 1)\n",
        "                - get_brightness_clamped(x, y_nast - 1)\n",
        "                + get_brightness_clamped(x, y_nast)\n",
        "            ) / 4\n",
        "\n",
        "            # Tworzenie wektora wartości punktów i pochodnych\n",
        "            x = np.array([\n",
        "                [A, B, D, C, A_x, B_x, D_x, C_x, A_y, B_y, D_y, C_y, A_xy, B_xy, D_xy, C_xy]\n",
        "            ]).T\n",
        "\n",
        "            # Wyznaczanie współczynników macierzy wielomianowej\n",
        "            a = ainvert.A_invert @ x\n",
        "\n",
        "            # Przekształcenie współczynników do macierzy 4x4\n",
        "            A = a.reshape((4, 4))\n",
        "\n",
        "            # Tworzenie wektorów dla dx i dy\n",
        "            dx_vec = np.array([[1, dx, dx**2, dx**3]])\n",
        "            dy_vec = np.array([[1], [dy], [dy**2], [dy**3]])\n",
        "\n",
        "            # Obliczanie nowej wartości piksela poprzez mnożenie macierzy\n",
        "            new_image[i, j] = (dx_vec @ A.T @ dy_vec)[0, 0]\n",
        "\n",
        "    # Skalowanie wartości pikseli do zakresu 0-255 i rzutowanie na typ uint8\n",
        "    min_val = np.min(new_image)\n",
        "    max_val = np.max(new_image)\n",
        "    new_image = ((new_image - min_val) / (max_val - min_val) * 255).astype(np.uint8)\n",
        "\n",
        "    return new_image\n"
      ]
    },
    {
      "cell_type": "code",
      "execution_count": null,
      "metadata": {
        "id": "BeEuYiLbBmsx"
      },
      "outputs": [],
      "source": [
        "img = cv2.imread(\"lena.bmp\", cv2.IMREAD_GRAYSCALE)\n"
      ]
    },
    {
      "cell_type": "code",
      "execution_count": null,
      "metadata": {
        "id": "0eqXy-I2Bu0a"
      },
      "outputs": [],
      "source": [
        "lena = BicubicInterpolation(img, 2.5, 2.5)\n",
        "plt.imshow(lena, \"gray\")\n",
        "plt.axis(\"off\")\n",
        "\n",
        "# save to file\n",
        "cv2.imwrite(\"BiCubicInterpolation.png\", lena)"
      ]
    },
    {
      "cell_type": "code",
      "source": [
        "lena2 = BicubicInterpolation(img, 0.5, 0.5)\n",
        "plt.imshow(lena2, \"gray\")\n",
        "plt.axis(\"off\")\n",
        "\n",
        "# save to file\n",
        "cv2.imwrite(\"BiCubicInterpolation2.png\", lena2)"
      ],
      "metadata": {
        "id": "ljZx5yYQDZjC"
      },
      "execution_count": null,
      "outputs": []
    }
  ],
  "metadata": {
    "colab": {
      "provenance": []
    },
    "kernelspec": {
      "display_name": "Python 3",
      "language": "python",
      "name": "python3"
    },
    "language_info": {
      "codemirror_mode": {
        "name": "ipython",
        "version": 3
      },
      "file_extension": ".py",
      "mimetype": "text/x-python",
      "name": "python",
      "nbconvert_exporter": "python",
      "pygments_lexer": "ipython3",
      "version": "3.8.3"
    }
  },
  "nbformat": 4,
  "nbformat_minor": 0
}
