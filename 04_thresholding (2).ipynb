{
  "cells": [
    {
      "cell_type": "markdown",
      "metadata": {
        "id": "Q7xyi7-phWUP"
      },
      "source": [
        "# Binaryzacja\n",
        "\n",
        "\n",
        "### Cel:\n",
        "- zapoznanie z segmentacją obiektów poprzez binaryzację,\n",
        "- zapoznanie z binaryzacją na podstawie histogramu (globalną),\n",
        "- zapoznanie z metodami automatycznego wyznaczania progu Ots'u, Kitller'a i Kapur'a,\n",
        "- zapoznanie z binaryzacją lokalną (na podstawie średniej i metodą Sauvola),\n",
        "- zapoznanie z binaryzacją dwuprogową,\n",
        "- zadanie domowe: zapoznanie z adaptacyjną binaryzacją lokalną.\n",
        "\n",
        "### Binaryzacja - wprowadzenie\n",
        "\n",
        "Jednym z najważniejszych etapów podczas analizy obrazów jest segmentacja -- **podział obrazu na rejony według pewnego kryterium  -- jasności, koloru, tekstury.**\n",
        "Najprostszą (i też najczęściej wykorzystywaną) metodą segmentacji jest **binaryzacja**.\n",
        "Do jej głównych zalet zalicza się: intuicyjność, prostotę, łatwość implementacji i szybkość wykonywania.\n",
        "Jest ona etapem wielu algorytmów analizy obrazów.\n",
        "Pozwala na znaczną redukcję informacji w obrazie (np. dla wejściowego obrazu w skali szarości z zakresu 0-255 do 0-1).\n",
        "\n",
        "Binaryzacja najczęściej realizowana jest poprzez progowanie.\n",
        "Na przykład: dla obrazu w odcieniach szarości ustala się próg na poziomie $k$.\n",
        "Wszystkie piksele o wartości (jasności) większej od $k$ zostają uznane za obiekty, a pozostałe za tło.\n",
        "Oczywiście podejście takie daje się zastosować wtedy, gdy obiekty mają istotnie różną jasność od otaczającego je tła.\n"
      ]
    },
    {
      "cell_type": "markdown",
      "metadata": {
        "id": "uSiKTJUrhWUT"
      },
      "source": [
        "### Binaryzacja na podstawie histogramu\n",
        "\n",
        "W rozdziale zostanie zademonstrowane wyznaczanie progu na podstawie \"ręcznej\" analizy histogramu oraz wpływ szumu i niejednorodnego oświetlenia sceny na proces binaryzacji.\n",
        "\n",
        "1. Potrzebne w ćwiczeniu moduły są już wpisane - zwróć uwagę pod jakimi nazwami będą one widziane (plt, cv2, np).\n",
        "\n",
        "2. Wczytaj obraz _coins.png_ w trybie odcieni szarości. Wyświetl go.\n",
        "Wyznacz jego histogram (funkcja `np.histogram` lub 'cv2.calcHist') i wyświetl go.\n",
        "Przy wyświetlaniu histogramu warto zwiększyć liczbę wyświetlanych wartości na osi x oraz powiększyć sam wykres (funkcje *plt.xticks(np.arange(0, 256, 20.0))* oraz *plt.rcParams[\"figure.figsize\"] = (10,5)*.\n",
        "Uwaga. Proszę powyższą funkcjonalność zaimplementować jako funkcję, gdyż przyda się w dalszej części ćwiczenia.\n",
        "      \n"
      ]
    },
    {
      "cell_type": "code",
      "execution_count": null,
      "metadata": {
        "id": "Fm3UZfVHhWUU"
      },
      "outputs": [],
      "source": [
        "import cv2\n",
        "import os\n",
        "import requests\n",
        "from matplotlib import pyplot as plt\n",
        "import numpy as np\n",
        "\n",
        "url = 'https://raw.githubusercontent.com/vision-agh/poc_sw/master/04_Thresholding/'\n",
        "\n",
        "fileNames = [\"coins.png\", \"rice.png\", \"catalogue.png\", \"bart.png\", \"figura1.png\", \"figura2.png\", \"figura3.png\", \"figura4.png\", \"T.png\"]\n",
        "for fileName in fileNames:\n",
        "  if not os.path.exists(fileName):\n",
        "      r = requests.get(url + fileName, allow_redirects=True)\n",
        "      open(fileName, 'wb').write(r.content)"
      ]
    },
    {
      "cell_type": "markdown",
      "source": [
        "Implementacja punktu drugiego jako funkcja"
      ],
      "metadata": {
        "id": "-l96gi9iNOxQ"
      }
    },
    {
      "cell_type": "code",
      "source": [
        "def showImgHist(path: str, show_img: bool = True, show_hist: bool = True):\n",
        "    img = cv2.imread(path, cv2.IMREAD_GRAYSCALE) #wczytanie obrzka w trybie szarości\n",
        "    img_hist = cv2.calcHist([img], [0], None, [256], [0, 256])\n",
        "\n",
        "    if show_img and show_hist:\n",
        "        fig, axs = plt.subplots(1, 2, figsize=(15, 5))\n",
        "    if show_img:\n",
        "        axs[0].imshow(img, \"gray\")\n",
        "        axs[0].axis(\"off\")\n",
        "        axs[1].plot(img_hist)\n",
        "    if show_hist:\n",
        "        plt.rcParams[\"figure.figsize\"] = (10, 5) # plt.rcParams[\"figure.figsize\"] = (10,5) - domyśly rozmiar figury wykresów\n",
        "        axs[1].set_xlabel(\"Value\")\n",
        "        axs[1].set_ylabel(\"Frequency\")\n",
        "        axs[1].set_title(\"Histogram\")\n",
        "        axs[1].set_xticks(np.arange(0, 256, 20.0)) #(funkcje plt.xticks(np.arange(0, 256, 20.0))\n",
        "        plt.show()\n",
        "\n",
        "    return img, img_hist"
      ],
      "metadata": {
        "id": "1m5A1BpGNC5d"
      },
      "execution_count": null,
      "outputs": []
    },
    {
      "cell_type": "code",
      "source": [
        "img, img_hist = showImgHist(\"coins.png\")"
      ],
      "metadata": {
        "id": "IKj8M-t_Nw2d"
      },
      "execution_count": null,
      "outputs": []
    },
    {
      "cell_type": "markdown",
      "metadata": {
        "id": "of5GeSFVhWUW"
      },
      "source": [
        "3. Wizualna analiza histogramu pozwala zauważyć dwa maksima - jedno odpowiadające poziomowi jasności tła (które w tym przypadku jest względnie jednolite - ciemnoszare) i drugie odpowiadające monetom.\n",
        "\n",
        "Na podstawie histogramu wyznacz próg i wykonaj binaryzację:\n",
        "- wykorzystaj fakt, że dla macierzy *numpy* można wykonać operację porównania wszystkich jej wartości z liczbą  - wynikiem jest macierz zawierająca wartości *True* i *False*, którą można przekonwertować metodą macierz.astype(np.int) na macierz z wartościami 1 i 0 (aczkolwiek nie jest to tu konieczne).\n",
        "- wynik binaryzacji wyświetl,\n",
        "- spróbuj dobrać jak najlepszy próg binaryzacji. Jako \"kryterium jakości\" przyjmij kształty monet - dla poprawnie dobranego progu powinny to być wypełnione koła.\n",
        "\n",
        "Uwaga. Proszę powyższą funkcjonalność zaimplementować jako funkcję, gdyż przyda się w dalszej części ćwiczenia."
      ]
    },
    {
      "cell_type": "markdown",
      "source": [
        "Na przykład: dla obrazu w odcieniach szarości ustala się próg na poziomie  k . Wszystkie piksele o wartości (jasności) większej od  k  zostają uznane za obiekty, a pozostałe za tło. Oczywiście podejście takie daje się zastosować wtedy, gdy obiekty mają istotnie różną jasność od otaczającego je tła.\n",
        "\n",
        "binary_mask = np.where(img_and_hist[0] > threshold, 1, 0).astype(np.uint8)"
      ],
      "metadata": {
        "id": "N5fpojh8R2DR"
      }
    },
    {
      "cell_type": "code",
      "source": [
        "def binarization(img_and_hist: tuple, threshold: int): #tuple - krotka (cos podobnego do listy ale jest niemodyfikowalna)\n",
        "    binary_mask = np.where(img_and_hist[0] > threshold, 1, 0).astype(np.uint8)\n",
        "    plt.subplot(1, 2, 1) # ostatnia 1 oznacza że operacje rysowania beda wykonywane na 1 rysunku\n",
        "    plt.imshow(cv2.cvtColor(img_and_hist[0], cv2.COLOR_BGR2RGB))\n",
        "    plt.title(\"Original Image\")\n",
        "    plt.axis(\"off\")\n",
        "    plt.subplot(1, 2, 2)\n",
        "    plt.imshow(binary_mask, cmap=\"gray\")\n",
        "    plt.title(\"Binary Image\")\n",
        "    plt.axis(\"off\")\n",
        "    plt.show()\n",
        "    return binary_mask\n",
        "\n",
        "\n",
        "binary_mask = binarization((showImgHist(\"coins.png\")), 125)"
      ],
      "metadata": {
        "id": "miNUU1GPjZA8"
      },
      "execution_count": null,
      "outputs": []
    },
    {
      "cell_type": "markdown",
      "metadata": {
        "id": "2Fpfktw9hWUX"
      },
      "source": [
        "4. Na \"stopień trudności\" przeprowadzenia binaryzacji największy wpływ mają dwa czynniki:\n",
        "- szum,\n",
        "- niejednorodne oświetlenie.\n",
        "\t  \n",
        "Użyj obrazy:\n",
        " - _figura1.png_ (bez zaszumienia),\n",
        " - _figura2.png_ (dodany szum Gaussowski o średniej 0 i odchyleniu standardowym 10),\n",
        " - _figura3.png_ (dodany szum Gaussowski o średniej 0 i odchyleniu standardowym 50),\n",
        " - _figura4.png_ (dodany gradient oświetlenia -- symulacja oświetlenia niejednorodnego) i wyświetl ich histogramy (wykorzystaj funkcję z poprzedniego punktu).\n"
      ]
    },
    {
      "cell_type": "markdown",
      "metadata": {
        "id": "BrmKxXmOhWUY"
      },
      "source": [
        "Spróbuj wyznaczyć progi binaryzacji na podstawie wyświetlonych histogramów.\n",
        "Jak dodanie szumu wypłynęło na histogram i łatwość wyznaczania progu binaryzacji?\n",
        "Czy jest to możliwe we wszystkich przypadkach?"
      ]
    },
    {
      "cell_type": "code",
      "execution_count": null,
      "metadata": {
        "id": "KXSDhgkqhWUY"
      },
      "outputs": [],
      "source": [
        "binarization(showImgHist(\"figura1.png\", False, False), 121)\n",
        "binarization(showImgHist(\"figura2.png\", False, False), 119)\n",
        "binarization(showImgHist(\"figura3.png\", False, False), 190)\n",
        "binarization(showImgHist(\"figura4.png\", False, False), 40)"
      ]
    },
    {
      "cell_type": "markdown",
      "metadata": {
        "id": "nLOovXDHhWUY"
      },
      "source": [
        "### Automatyczne wyznaczanie progu binaryzacji\n",
        "\n",
        "W automatycznym systemie analizy obrazów (działanie bez nadzoru operatora) konieczne jest zastosowanie metody binaryzacji, która w sposób automatyczny wyznacza próg binaryzacji.\n",
        "Oczywiście można sobie wyobrazić użycie stałego progu (np. 10), ale wtedy należy zadbać o niezmienność warunków oświetleniowych, co w niektórych zastosowaniach może być problematyczne.\n",
        "\n",
        "#### Iteracyjne wyznaczenie progu\n",
        "\n",
        "Jednym z najprostszych podejść jest iteracyjna procedura wyliczania progu.\n",
        "Jako pierwsze przybliżenie progu ($k$) przyjmuje się średnia jasność na obrazie.\n",
        "Następnie, na podstawie $k$,  dzieli się obraz na dwa podobrazy $I_0$ i  $I_1$ (dwie klasy $C_0$ i $C_1$).\n",
        "Dla każdego z nich oblicza się średnią jasność: $m_0$ i $m_1$.\n",
        "Jako nowy próg przyjmuje się:\n",
        "\\begin{equation}\n",
        "\\label{eq:thresholding:mean_auto} \\tag{1}\n",
        "k_{new} = \\frac{m_0 + m_1}{2}\n",
        "\\end{equation}\n",
        "Procedurę kontynuuje się do momentu, aż różnica pomiędzy dwoma kolejnymi progami będzie mniejsza niż zadana wartość.\n",
        "\n",
        "\n",
        "**Zadanie: zaimplementować opisany powyżej algorytm.**\n",
        "\n",
        "\n",
        "Jak można zauważyć, do poprawnego działania metody potrzebne będzie obliczanie średniej jasności, również dla pewnych podobrazów.\n",
        "Wykorzystamy do tego znormalizowanych histogram:\n",
        "\\begin{equation}\n",
        "\\label{eq:p_i} \\tag{2}\n",
        "p_i = n_i/N,   \\sum_{i=0}^L p_i = 1\n",
        "\\end{equation}\n",
        "gdzie: $n_i$ liczba pikseli o jasności $i$ ($i = 0,1, ... L-1$) - histogram, $L$ - liczba poziomów jasności, $N$ - liczba pikseli na obrazie ($N = n_0 + n_1 + ... + n_{L-1}$).\n",
        "\n",
        "Jeśli podzielimy obraz na dwie klasy $C_0$ i $C_1$ (tło i obiekty albo obiekty i tło) z progiem podziału oznaczonym jako $k$, to do klasy $C_0$ należeć będą piksele o poziomach $[0,k]$, a do klasy $C1$ piksele o poziomach $[k+1,L-1]$.\n",
        "\n",
        "Wtedy prawdopodobieństwo, że piksel należy do klasy $C_0$ wynosi:\n",
        "\\begin{equation}\n",
        "\\label{eq:P_0} \\tag{3}\n",
        "P_0(k) = \\sum_{i=0}^{k} p_i\n",
        "\\end{equation}\n",
        "\n",
        "Podobnie prawdopodobieństwo, że należy do klasy $C_1$ wynosi:\n",
        "\n",
        "\\begin{equation}\n",
        "\\label{eq:P_1} \\tag{4}\n",
        "P_1(k) = \\sum_{i=k+1}^{L-1} p_i = 1 - P_0(k)\n",
        "\\end{equation}\n",
        "\n",
        "Średnią jasność pikseli należących do klasy $C_0$ można wyznaczyć na podstawie:\n",
        "\n",
        "\\begin{equation}\n",
        "\\label{eq:m_0} \\tag{5}\n",
        "m_0(k) = \\sum_{i=0}^{k} iP(i|C_0)\n",
        "\\end{equation}\n",
        "\n",
        "gdzie: $|$ oznacza prawdopodobieństwo warunkowe, a wyraz $P(i|C_0)$ - prawdopodobieństwo dla wartości $i$ pod warunkiem, że $i$ należy do klasy $C_0$.\n",
        "Równanie to jest szczególnym przypadkiem wykorzystania momentów statystycznych do wyliczania pewnych parametrów statystycznych - w tym przypadku średniej.\n",
        "\n",
        "Wykorzystując regułę Bayesa:\n",
        "\n",
        "\\begin{equation}\n",
        "\\label{eq:P_A_B} \\tag{6}\n",
        "P(A|B) = P(B|A)P(A)/P(B)\n",
        "\\end{equation}\n",
        "możemy zapisać:\n",
        "\n",
        "\\begin{equation}\n",
        "\\label{eq:m_0k} \\tag{7}\n",
        "m_0(k) = \\sum_{i=0}^{k} i P(C_0|i)P(i)/P(C_0)\n",
        "\\end{equation}\n",
        "Wyraz $P(C_0|i) = 1$, gdyż z założenia rozpatrujemy tylko piksele należące do klasy $C_0$.\n",
        "Wyraz $P(i)$ stanowi $i$-ty element znormalizowanego histogramu tj. $P(i) = p_i$, a $P(C_0)$ to prawdopodobieństwo przynależności do klasy $C_0$ określone wcześniej $P(C_0) = P_0(k)$.\n",
        "Ostatecznie możemy więc zapisać:\n",
        "\n",
        "\\begin{equation}\n",
        "\\label{eq:thresholding:meanHistC0} \\tag{8}\n",
        "m_0(k) = \\frac{1}{P_0(k)} \\sum_{i=0}^{k} i p_i\n",
        "\\end{equation}\n",
        "\n",
        "Na podstawie analogicznych rozważań można wyprowadzić wzór na średnią jasności pikseli należących do klasy $C_1$:\n",
        "\\begin{equation}\n",
        "\\label{eq:thresholding:meanHistC1}  \\tag{9}\n",
        "m_1(k) = \\frac{1}{P_1(k)} \\sum_{i=k+1}^{L-1} i p_i\n",
        "\\end{equation}\n",
        "\n",
        "Średnia jasność całego obrazu dana jest zależnością:\n",
        "\\begin{equation}\n",
        "\\label{eq:thresholding:meanHistGlobal} \\tag{10}\n",
        "m_G = \\sum_{i=0}^{L-1} ip_i\n",
        "\\end{equation}\n",
        "\n",
        "\n",
        "1. Wczytaj obraz _coins.png_. Wyświetl go.\n",
        "\n",
        "2. Wylicz histogram i histogram skumulowany (funkcja `np.cumsum`).\n",
        "   Na podstawie zależności (\\ref{eq:thresholding:meanHistGlobal}) wylicz średnią - pierwszy próg podziału $k$.\n",
        "   Uwagi:\n",
        "   - przed dalszymi obliczeniami dobrze jest usunąć zbędny wymiar tablicy z histogramem - polecenie `np.squeeze`\n",
        "    - $p_i$ to nasz znormalizowany histogram, a wartości od $0$ do $255$ można wygenerować poleceniem `np.arange(256)`,\n",
        "    - zmiast pętli `for` można wykorzystać iloczyn sklarny dwóch wektorów tj. `np.dot`.\n",
        "\n",
        "3.  W nieskończonej petli `while` wykonaj następujące kroki:\n",
        "- oblicz średnią $m_0$ -- zależność (\\ref{eq:thresholding:meanHistC0}):\n",
        "    - dla $P_0$ wystarczy wykorzystać odpowiednią wartość znormalizowanego histogramu skumulowanego, dla pozostałej części wyrażenia podobne rozwiązanie jak dla pierwszej średniej,\n",
        "- oblicz średnią $m_1$ -- zależność (\\ref{eq:thresholding:meanHistC1}),\n",
        "- oblicz nowy próg $k_{new}$ -- zależność (\\ref{eq:thresholding:mean_auto}),\n",
        "- oblicz moduł z różnicy pomiędzy $k_{new}$, a $k$ i sprawdź czy jest mniejszy od progu (np. $1$),\n",
        "- jeśli tak to zakończ obliczenia (`break`), jeśli nie to przypisz $k = k_{new}$ i kontynuuj obliczenia,\n",
        "- wyświetl próg oraz wynik binaryzacji.\n",
        "\n",
        "4. Sprawdz jak metoda dziala na obrazach _figura1.png_ do _figura4.png_."
      ]
    },
    {
      "cell_type": "markdown",
      "source": [
        "**Próg binaryzacji - próg wartości pikseli, który oddzieli jasne i ciemne części obrazu**"
      ],
      "metadata": {
        "id": "Fch_mhpkEiBF"
      }
    },
    {
      "cell_type": "code",
      "metadata": {
        "pycharm": {
          "name": "#%%\n"
        },
        "id": "Vpv_w4FshWUZ"
      },
      "source": [
        "def calcIterationThreshold(img_and_hist: tuple) -> int:\n",
        "    hist = img_and_hist[1].squeeze() #usunięcie z histohramu zbędnego wymiaru tablicy\n",
        "    cum_hist = hist.cumsum() #histogram skumulowany\n",
        "    hist_norm = hist / cum_hist[-1]  # podzilenie przez wszystkie piksele\n",
        "    cum_hist = cum_hist / cum_hist[-1]\n",
        "    k = int(np.dot(np.arange(256), hist_norm)) #ikloczyn skalarny\n",
        "\n",
        "    # 3. w nieskończonej pętli while\n",
        "    while True:\n",
        "        m0 = np.dot(np.arange(k), hist_norm[:k]) / cum_hist[k - 1]\n",
        "        m1 = np.dot(np.arange(k, 256), hist_norm[k:]) / (1 - cum_hist[k - 1])\n",
        "        k_new = (m0 + m1) / 2\n",
        "        if abs(k - k_new) < 1:\n",
        "            return int(k)\n",
        "        k = int(k_new)"
      ],
      "execution_count": null,
      "outputs": []
    },
    {
      "cell_type": "code",
      "source": [
        "print(calcIterationThreshold(showImgHist(\"figura1.png\", False, False)))\n",
        "print(calcIterationThreshold(showImgHist(\"figura2.png\", False, False)))\n",
        "print(calcIterationThreshold(showImgHist(\"figura3.png\", False, False)))\n",
        "print(calcIterationThreshold(showImgHist(\"figura4.png\", False, False)))"
      ],
      "metadata": {
        "id": "_2qSBap8FfMM"
      },
      "execution_count": null,
      "outputs": []
    },
    {
      "cell_type": "code",
      "source": [
        "binarization(\n",
        "    showImgHist(\"figura1.png\", False, False),\n",
        "    calcIterationThreshold(showImgHist(\"figura1.png\", False, False)),\n",
        ")\n",
        "\n",
        "binarization(\n",
        "    showImgHist(\"figura2.png\", False, False),\n",
        "    calcIterationThreshold(showImgHist(\"figura2.png\", False, False)),\n",
        ")\n",
        "\n",
        "binarization(\n",
        "    showImgHist(\"figura3.png\", False, False),\n",
        "    calcIterationThreshold(showImgHist(\"figura3.png\", False, False)),\n",
        ")\n",
        "\n",
        "binarization(\n",
        "    showImgHist(\"figura4.png\", False, False),\n",
        "    calcIterationThreshold(showImgHist(\"figura4.png\", False, False)),\n",
        ")"
      ],
      "metadata": {
        "id": "VaHunwrxTdN2"
      },
      "execution_count": null,
      "outputs": []
    },
    {
      "cell_type": "markdown",
      "source": [
        "#### Metoda Otsu\n",
        "\n",
        "Jednym z częściej wykorzystywanych algorytmów wyznaczania progu jest metoda zaproponowana w roku 1979 przez Nobuyuki Otsu w artykule pt. \"A Threshold Selection Method from Gray-Level Histograms\" (można odszukać na IEEE Xplore).\n",
        "W algorytmie zakłada się, że obraz zawiera piksele należące do dwóch klas (obiektów i tła) tj. histogram obrazu jest bi-modalny (ma dwa maksima).\n",
        "Próg podziału obliczany jest tak, aby wariancja międzyklasowa była maksymalna.\n",
        "W tym sensie metodę Otsu można nazwać optymalną.\n",
        "\n",
        "Wprowadźmy teraz wskaźnik \"jakości\" wybranego progu podziału $k$, który będziemy optymalizować.\n",
        "W algorytmie Otsu jest to:\n",
        "\n",
        "\\begin{equation}\n",
        "\\label{eq:thresholding:otsu:eta} \\tag{11}\n",
        "\\eta(k) = \\frac{\\sigma^2_B(k)}{\\sigma^2_G}\n",
        "\\end{equation}\n",
        "gdzie:  $\\sigma^2_G$ - wariancja globalna, która może zostać obliczona na podstawie momentów statystycznych jako:\n",
        "\n",
        "\\begin{equation}\n",
        "\\label{eq:sigma} \\tag{12}\n",
        "\\sigma^2_G =  \\sum_{i=0}^{L-1} (i - m_G)^2 p_i\n",
        "\\end{equation}\n",
        "a $\\sigma^2_B$ jest wariancją międzyklasową, która jest zdefiniowana jako:\n",
        "\\begin{equation}\n",
        "\\label{eq:sigma_b} \\tag{13}\n",
        "\\sigma^2_B(k) =  P_0(k)(m_0(k) - m_G)^2 + P_1(k)(m_1(k) - m_G)^2\n",
        "\\end{equation}\n",
        "Równianie to można również przekształcić do:\n",
        "\\begin{equation}\n",
        "\\label{eq:thresholding:otsu:sigma_B_2} \\tag{14}\n",
        "\\sigma^2_B(k) =  P_0(k)P_1(k)(m_0(k) - m_1(k))^2 = \\frac{(m_G P_0(k) - m(k) )^2}{P_0(k)(1-P_0(k))}\n",
        "\\end{equation}\n",
        "gdzie:\n",
        "\\begin{equation}\n",
        "\\label{eq:mk} \\tag{15}\n",
        "m(k) = \\sum_{i=0}^{k} i p_i\n",
        "\\end{equation}\n",
        "\n",
        "Taki zapis pozwala przyspieszyć obliczenia.\n",
        "Wartość $m_G$ wyznaczana jest jednokrotnie, a zachodzi tylko potrzeba obliczania $m(k)$ i $P_0(k)$ w każdej iteracji.\n",
        "Warto też zwrócić uwagę, że równanie ma sens dla $P_0 > 0$.\n",
        "\n",
        "Warto zauważyć, że z postaci równania (\\ref{eq:thresholding:otsu:sigma_B_2}) wynika, że im większa odległość pomiędzy średnimi $m_0$ i $m_1$ tym wartość wariancji międzyklasowej jest większa.\n",
        "Pokazuje to, że przyjęty współczynniki może być podstawą do separacji dwóch klas - im jego wartość jest większa, tym lepsze rozdzielenie.\n",
        "Dodatkowo, z równania (\\ref{eq:thresholding:otsu:eta}) wynika, że $\\eta(k)$ zależy tylko od wariancji międzyklasowej $\\sigma^2_B(k)$, gdyż wariancja globalna $\\sigma^2_G$ jest stała.\n",
        "Zatem w procesie optymalizacji należy dążyć do maksymalizacji wskaźnika $\\eta$.\n",
        "\n",
        "Należy też pamiętać, że współczynnik jest poprawnie określony tylko dla wartości $\\sigma^2_G > 0$.\n",
        "Przy czym, wartość $0$ może on przyjąć tylko dla obrazu o jednym poziomie szarości - w takim przypadku trudno mówić o podziale pikseli na dwie klasy (skoro występuje tylko jedna).\n",
        "\n",
        "Ostatecznie optymalny próg binaryzacji $\\bar{k}$ wyliczamy na podstawie zależności:\n",
        "\\begin{equation}\n",
        "\\label{eq:sigma_B_k} \\tag{16}\n",
        "\\sigma^2_B(\\bar{k}) \\max\\limits_{k \\in[0,L-1]} {\\sigma^2_B(k) }\n",
        "\\end{equation}\n",
        "\n",
        "Uwagi:\n",
        "- może się zdarzyć, że znajdziemy więcej niż jedno maksimum tj. więcej wartości $\\bar{k}$.\n",
        "  W takim przypadku zwykle zakłada się, że próg będzie średnią otrzymanych wartości.\n",
        "- liczby $P_0(\\bar{k})$ i $P_1(\\bar{k})$ odpowiadają powierzchni zajmowanej przez obiekty klas $C_0$ i $C_1$.\n",
        "- liczby $m_0(\\bar{k})$ i $m_1(\\bar{k})$ odpowiadają średniej jasności obiektów klas $C_0$ i $C_1$.\n",
        "- wartość parametru $\\eta(\\bar{k})$ określa \"jakość\" wyznaczonego progu -- im większa tym lepiej.\n",
        "\n",
        "Zadanie: wykorzystując podane powyżej informacje należy zaimplementować metodę wyznaczania progu binaryzacji zaproponowaną przez Otsu.\n",
        "\n",
        "1. Wczytaj obraz _coins.png_.\n",
        "      Wyświetl go.\n",
        "\n",
        "2. Wyznacz jego histogram znormalizowany oraz oblicz średnią jasność (można do tego wykorzystać histogram) - kod zbliżony do stworzonego wcześniej.\n",
        "\n",
        "3. Zdefiniuj 256-elementowy wektor na współczynniki $\\sigma_B^2$ (funkcja `np.zeros`).\n",
        "\n",
        "4. W pętli po możliwych wartościach progu binaryzacji wyznacz wartość $\\sigma_B^2(k)$ na podstawie zależności (\\ref{eq:thresholding:otsu:sigma_B_2}).\n",
        "      Uwagi:\n",
        "      - wcześniejszego liczenia wartości $P_0(k)$ i $m(k)$ można uniknąć inkrementując wartośc $P_0, m$  w każdej iteracji.\n",
        "      - należy pamiętać, że równanie ma sens tylko dla $0 < P_0(k) < 1$. <br>\n",
        "\n",
        "5. Wyświetl przebieg $\\sigma_B^2(k)$.\n",
        "      Wykorzystaj funkcję `plt.plot`.\n",
        "\n",
        "6. Wyznacz wartość $\\bar{k}$ dla której współczynnik $\\sigma_B^2$ jest maksymalny.\n",
        "\t  Można to zrobić poprzez dodanie instrukcji w pętli (rozwiązanie bardziej elegancie) lub wykorzystując funkcję `max` (rozwiązanie dla leniwych).\n",
        "\t  Uwaga. Proszę pominąć obsługę przypadków niejednoznacznego maksimum.\n",
        "\n",
        "7. Zbinaryzuj obraz wykorzystując otrzymany próg.\n",
        "      Porównaj wyniki z rezultatem binaryzacji \"ręcznej\".\n",
        "\n",
        "8. W OpenCV dostępna jest implementacja metody Otsu - funkcja `cv2.threshold` z parametrem `cv2.THRESH_OTSU`.\n",
        "      Funkcja zwraca zbinaryzowany obraz oraz próg.\n",
        "      Wykonaj binaryzację obrazu _coins.png_ metodą Otsu.\n",
        "      Porównaj wyniki z własną implementacją - powinno wyjść tak samo (tzn. taki sam próg).\n",
        "\n",
        "9. Przeprowadź eksperyment również na obrazie _rice.png_ i _catalogue.png_"
      ],
      "metadata": {
        "collapsed": false,
        "id": "D5QX7WA6hWUa"
      }
    },
    {
      "cell_type": "code",
      "metadata": {
        "pycharm": {
          "name": "#%%\n"
        },
        "id": "jtjb4nD9hWUa"
      },
      "source": [
        "def calcOtsuThreshold(img_and_hist: tuple) -> int:\n",
        "    # Wyciągnięcie histogramu z krotki i usunięcie zbędnych wymiarów\n",
        "    hist = img_and_hist[1].squeeze()\n",
        "\n",
        "    # Obliczenie skumulowanego histogramu\n",
        "    hist_cum = hist.cumsum()\n",
        "\n",
        "    # Normalizacja histogramu\n",
        "    hist_norm = hist / hist_cum[-1]\n",
        "    hist_cum = hist_cum / hist_cum[-1]\n",
        "\n",
        "    # Obliczenie średniej jasności całego obrazu (wartość globalna)\n",
        "    mG = np.dot(np.arange(256), hist_norm)\n",
        "\n",
        "    # Inicjalizacja zmiennej przechowującej ostateczny próg\n",
        "    k_final = 0\n",
        "\n",
        "    # Pętla, która przechodzi przez wszystkie możliwe progi k (1 do 254)\n",
        "    for k in range(1, 255):\n",
        "        # Sprawdzenie, czy histogram skumulowany jest równy 0 lub 1; jeśli tak, pomijamy iterację\n",
        "        if hist_cum[k - 1] == 0 or hist_cum[k - 1] == 1:\n",
        "            continue\n",
        "\n",
        "        # Obliczenie średniej jasności m0 dla pikseli poniżej progu k\n",
        "        m0 = np.dot(np.arange(256)[:k], hist_norm[:k]) / hist_cum[k - 1]\n",
        "\n",
        "        # Obliczenie średniej jasności m1 dla pikseli powyżej progu k\n",
        "        m1 = np.dot(np.arange(256)[k:], hist_norm[k:]) / (1 - hist_cum[k - 1])\n",
        "\n",
        "        # Obliczenie międzyklasowej wariancji sigmaB dla progu k\n",
        "        sigmaB = hist_cum[k - 1] * (1 - hist_cum[k - 1]) * ((m0 - m1) ** 2)\n",
        "\n",
        "        # Sprawdzenie, czy międzyklasowa wariancja dla k jest większa od dotychczasowej maksymalnej\n",
        "        if sigmaB > mG:\n",
        "            mG = sigmaB\n",
        "            k_final = k\n",
        "\n",
        "    # Zwrócenie ostatecznego progu binarizacji\n",
        "    return k_final\n"
      ],
      "execution_count": null,
      "outputs": []
    },
    {
      "cell_type": "code",
      "source": [
        "print(calcOtsuThreshold(showImgHist(\"figura1.png\", False, False)))\n",
        "print(calcOtsuThreshold(showImgHist(\"figura2.png\", False, False)))\n",
        "print(calcOtsuThreshold(showImgHist(\"figura3.png\", False, False)))\n",
        "print(calcOtsuThreshold(showImgHist(\"figura4.png\", False, False)))"
      ],
      "metadata": {
        "id": "9ABvqKiDF-A0"
      },
      "execution_count": null,
      "outputs": []
    },
    {
      "cell_type": "code",
      "source": [
        "#Zbinaryzuj obraz wykorzystując otrzymany próg. Porównaj wyniki z rezultatem binaryzacji \"ręcznej\"."
      ],
      "metadata": {
        "id": "vNNVfGdK0wSe"
      },
      "execution_count": null,
      "outputs": []
    },
    {
      "cell_type": "code",
      "source": [
        "binarization(\n",
        "    showImgHist(\"figura1.png\", False, False),\n",
        "    calcOtsuThreshold(showImgHist(\"figura1.png\", False, False)),\n",
        ")\n",
        "\n",
        "binarization(\n",
        "    showImgHist(\"figura2.png\", False, False),\n",
        "    calcOtsuThreshold(showImgHist(\"figura2.png\", False, False)),\n",
        ")\n",
        "\n",
        "binarization(\n",
        "    showImgHist(\"figura3.png\", False, False),\n",
        "    calcOtsuThreshold(showImgHist(\"figura3.png\", False, False)),\n",
        ")\n",
        "\n",
        "binarization(\n",
        "    showImgHist(\"figura4.png\", False, False),\n",
        "    calcOtsuThreshold(showImgHist(\"figura4.png\", False, False)),\n",
        ")"
      ],
      "metadata": {
        "id": "KHIy9VqxF9IR"
      },
      "execution_count": null,
      "outputs": []
    },
    {
      "cell_type": "markdown",
      "source": [
        "### Binaryzacja lokalna\n",
        "\n",
        "\n",
        "Analiza wyników binaryzacji dla obrazów _rice.png_ i _catalogue.png_ pokazuje, że globalna binaryzacja nie najlepiej działa dla obrazów o niejednorodnym oświetleniu.\n",
        "Dla obu obrazów trudno również wyznaczyć odpowiedni próg \"ręcznie\".\n",
        "\n",
        "Metodą, która pozwala poprawić wyniki binaryzacji, jest binaryzacja lokalna (niekiedy zwana adaptacyjną).\n",
        "W jednym z wariantów polega ona na wyznaczeniu progu osobno dla każdego piksela na podstawie jego otoczenia (tj. własności jego kontekstu, okna).\n",
        "\n",
        "1. Dla uproszczenia zakładamy, że obraz ma rozmiar $256 \\times 256$ pikseli. Przyjmijmy okno analizy o rozmiarze 15 pikseli.\n",
        "\n",
        "2. Najprostsza wersja binaryzacji lokalnej zakłada, że próg binaryzacji dla danego okna to średnia z pikseli w tym oknie.\n",
        "\n",
        "3. Wczytaj obraz _rice.png_. Rozmiar obrazka (`X,Y`) można uzyskać stosując taką składnię: `(X, Y) = obraz.shape`.\n",
        "\n",
        "4. Podstawą algorytmu są dwie pętle `for` iterujące po pikselach obrazka:\n",
        "\n",
        "\n",
        "\tfor j in range(W/2, Y-W/2):\n",
        "\t    for i in range(W/2, X-W/2):\n",
        "\n",
        "5. Wewnątrz pętli należy dla każdego piksela wyciąć jego otoczenie o rozmiarze `W` (operator `:`), wyznaczyć z niego średnią (metoda `mean`) i na jej podstawie dokonać binaryzacji.\n",
        "\n",
        "6. Wyświetl obrazy oryginalny i zbinaryzowany.\n",
        "\n",
        "7. Zaobserwuj rezultaty działania metody dla obrazów _rice.png_ i _catalogue.png_.\n",
        "      Poeksperymentuj z rozmiarem okna (proszę nie przesadzać z rozmiarem, gdyż istotnie wpływa on na czas obliczeń).\n",
        "      Jaka jest podstawowa wada zaimplementowanej metody? (pomijając złożoność obliczeniową).\n",
        "      Proszę się zastanowić jakie jest źródło błędów."
      ],
      "metadata": {
        "collapsed": false,
        "pycharm": {
          "name": "#%% md\n"
        },
        "id": "hNW7wGQ2hWUb"
      }
    },
    {
      "cell_type": "code",
      "execution_count": null,
      "metadata": {
        "id": "_-R_AQHahWUb"
      },
      "outputs": [],
      "source": [
        "def localBinarization(image: np.ndarray, w: int = 15) -> None:\n",
        "    # Tworzymy kopię obrazu, aby nie modyfikować oryginału\n",
        "    img = image.copy()\n",
        "    # Zapisujemy rozmiary obrazu (wysokość x i szerokość y)\n",
        "    x, y = img.shape\n",
        "\n",
        "    # Przechodzimy przez każdy piksel z uwzględnieniem wielkości okna w\n",
        "    for i in range(w // 2, y - w // 2):  # Pętla dla każdego wiersza w granicach obrazu\n",
        "        for j in range(w // 2, x - w // 2):  # Pętla dla każdej kolumny w granicach obrazu\n",
        "            # Wybieramy lokalne okno o rozmiarze w wokół bieżącego piksela\n",
        "            window = image[i - w // 2 : i + w // 2 + 1, j - w // 2 : j + w // 2 + 1]\n",
        "            # Wyznaczamy próg jako średnią wartość jasności w oknie\n",
        "            threshold = np.mean(window)\n",
        "            # Jeśli jasność piksela jest większa niż próg, ustawiamy piksel na biały (255)\n",
        "            # W przeciwnym razie ustawiamy go na czarny (0)\n",
        "            img[i, j] = 255 if image[i, j] > threshold else 0\n",
        "\n",
        "\n",
        "    fig, axs = plt.subplots(1, 2, figsize=(15, 5))\n",
        "    axs[0].imshow(image, \"gray\")\n",
        "    axs[0].axis(\"off\")\n",
        "    axs[1].imshow(img, \"gray\")\n",
        "    axs[1].axis(\"off\")\n",
        "    plt.show()\n",
        "\n",
        "# Wywołanie funkcji na obrazie \"rice.png\" w odcieniach szarości\n",
        "localBinarization(cv2.imread(\"rice.png\", cv2.IMREAD_GRAYSCALE))\n"
      ]
    },
    {
      "cell_type": "code",
      "execution_count": null,
      "metadata": {
        "id": "O9sj59nghWUc"
      },
      "outputs": [],
      "source": [
        "def SauvolBinarization(image: np.ndarray, R: float = 128, k: float = 0.15, w: int = 15) -> None:\n",
        "    # Tworzymy kopię obrazu, aby nie modyfikować oryginału\n",
        "    img = image.copy()\n",
        "    # Pobieramy wymiary obrazu (wysokość x i szerokość y)\n",
        "    x, y = img.shape\n",
        "\n",
        "    # Przechodzimy przez każdy piksel z uwzględnieniem wielkości okna w\n",
        "    for i in range(w // 2, y - w // 2):  # Pętla po wierszach\n",
        "        for j in range(w // 2, x - w // 2):  # Pętla po kolumnach\n",
        "            # Wybieramy lokalne okno o rozmiarze w x w wokół bieżącego piksela\n",
        "            window = image[i - w // 2 : i + w // 2, j - w // 2 : j + w // 2]\n",
        "\n",
        "\n",
        "\n",
        "            #inny sposob liczenia tresholdu\n",
        "            # Obliczamy próg Sauvoli jako średnia * (1 - k * ((odchylenie / R) - 1))\n",
        "            # gdzie odchylenie standardowe jest obliczane dla okna\n",
        "            threshold = np.mean(window) * (1 - k * ((np.std(window) / R) - 1))\n",
        "\n",
        "            # Przypisujemy wartość 255 (biały) jeśli piksel jest jaśniejszy od progu\n",
        "            # lub 0 (czarny) jeśli jest ciemniejszy\n",
        "            img[i, j] = 255 if img[i, j] > threshold else 0\n",
        "\n",
        "    # Rysowanie oryginalnego obrazu i obrazu po binaryzacji\n",
        "    fig, axs = plt.subplots(1, 2, figsize=(15, 5))\n",
        "    axs[0].imshow(image, \"gray\")  # Wyświetlenie oryginalnego obrazu\n",
        "    axs[0].axis(\"off\")  # Ukrycie osi\n",
        "    axs[1].imshow(img, \"gray\")  # Wyświetlenie obrazu po binaryzacji Sauvoli\n",
        "    axs[1].axis(\"off\")  # Ukrycie osi\n",
        "    plt.show()  # Wyświetlenie obrazów\n",
        "\n",
        "# Wywołanie funkcji na obrazie \"rice.png\" w odcieniach szarości\n",
        "SauvolBinarization(cv2.imread(\"rice.png\", cv2.IMREAD_GRAYSCALE))\n"
      ]
    },
    {
      "cell_type": "code",
      "source": [
        "SauvolBinarization(cv2.imread(\"catalogue.png\", cv2.IMREAD_GRAYSCALE))"
      ],
      "metadata": {
        "id": "sTDw3LHZ9QHn"
      },
      "execution_count": null,
      "outputs": []
    },
    {
      "cell_type": "markdown",
      "metadata": {
        "id": "Cay2_8ahhWUc"
      },
      "source": [
        "### Binaryzacja dwuprogowa\n",
        "\n",
        "Binaryzację można przeprowadzić wykorzystując więciej niż jedn próg.\n",
        "Przykładem jest binaryzacja dwuprogowa - wybieramy w ten sposób przedział jasności (piksele w nim zawarte klasyfikujemy jako obiekty).\n",
        "\n",
        "1. Wczytaj obraz _bart.png_.\n",
        "Wyświetl go, wyznacz i wyświetl jego histogram.\n",
        "Oceń, który fragment histogramu odpowiada kolorowi skóry Barta Simpsona.<br>\n",
        "**UWAGA - Aby odczytać wartości pikseli można zapisać obrazek na dysku (`cv2.imwrite('Nazwa.png', Image)`), a następnie odczytać wartościa programem do edycji obrazów, np. *paint*.**<br>"
      ]
    },
    {
      "cell_type": "code",
      "execution_count": null,
      "metadata": {
        "id": "IvdwjO_mhWUc"
      },
      "outputs": [],
      "source": [
        "bart = cv2.imread(\"bart.png\", cv2.IMREAD_GRAYSCALE)\n",
        "bart_hist = cv2.calcHist([bart], [0], None, [256], [0, 256])\n",
        "plt.plot(bart_hist)"
      ]
    },
    {
      "cell_type": "markdown",
      "metadata": {
        "id": "oM1LY6fihWUc"
      },
      "source": [
        "2. Przeprowadź segmentację na podstawie koloru skóry (binaryzację dwuprogową).\n",
        "      Wykorzystaj przekształcenie obrazów z wartościami True, False na wartości 1,0 i mnożenie obrazów. Wyświetl wynik.\n",
        "      "
      ]
    },
    {
      "cell_type": "code",
      "execution_count": null,
      "metadata": {
        "id": "Nf4gMs1XhWUd"
      },
      "outputs": [],
      "source": [
        "def twoLevelBinarization(img: np.ndarray, threshold_upper: int, threshold_lower: int) -> None:\n",
        "    img[threshold_lower < img.all() < threshold_upper] = 255\n",
        "    img[img < threshold_lower] = 0\n",
        "    img[img > threshold_upper] = 0\n",
        "    plt.imshow(img, \"gray\")\n",
        "    plt.axis(\"off\")\n",
        "    plt.show()\n",
        "\n",
        "\n",
        "twoLevelBinarization(bart, threshold_upper=205, threshold_lower=195)"
      ]
    }
  ],
  "metadata": {
    "celltoolbar": "Raw Cell Format",
    "kernelspec": {
      "display_name": "Python 3",
      "language": "python",
      "name": "python3"
    },
    "language_info": {
      "codemirror_mode": {
        "name": "ipython",
        "version": 3
      },
      "file_extension": ".py",
      "mimetype": "text/x-python",
      "name": "python",
      "nbconvert_exporter": "python",
      "pygments_lexer": "ipython3",
      "version": "3.8.3"
    },
    "colab": {
      "provenance": []
    }
  },
  "nbformat": 4,
  "nbformat_minor": 0
}