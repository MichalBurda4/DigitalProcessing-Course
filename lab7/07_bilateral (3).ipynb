{
  "cells": [
    {
      "cell_type": "markdown",
      "metadata": {
        "pycharm": {
          "name": "#%% md\n"
        },
        "id": "rZYaNyD2FpiL"
      },
      "source": [
        "# Filtracja bilateralna"
      ]
    },
    {
      "cell_type": "markdown",
      "source": [
        "## Konwolucja obrazu z filtrem o zadanych współczynnikach\n",
        "\n",
        "Splot (konwolucję) obrazu wejściowego $I$ z filtrem $\\psi$ dla ustalonego punktu obrazu $\\mathbf{x}$ można przedstawić następująco:\n",
        "\n",
        "\\begin{equation}\n",
        "\\hat{I}(\\mathbf{x}) = \\frac{1}{W_N}\\sum_{\\mathbf{p} \\in \\eta(\\mathbf{x})} \\psi(||\\mathbf{p}-\\mathbf{x}||)I(\\mathbf{p})\n",
        "\\end{equation}\n",
        "\n",
        "gdzie:\n",
        "- $\\hat{I}$ jest obrazem wynikowym (przefiltrowanym),\n",
        "- $W_N = \\sum_y \\psi(y)$ jest parametrem normalizującym współczynniki filtra $\\psi$,\n",
        "- $||\\cdot||$ jest odległością między punktami obrazu $\\mathbf{x}$ i $\\mathbf{p}$ według ustalonej metryki (np. norma $L_2$). Uwaga, proszę pamiętać, że zarówno $\\mathbf{x}$, jak i $\\mathbf{p}$ to współrzędne przestrzenne,\n",
        "- $\\eta(\\mathbf{x})$ jest otoczeniem punktu $\\mathbf{x}$.\n",
        "\n",
        "Funkcja $\\psi$ decyduje o charakterze filtracji. Dla filtru Gaussowskiego:\n",
        "\n",
        "\\begin{equation}\n",
        "\\psi(y) = G_{\\delta_s}(y)\n",
        "\\end{equation}\n",
        "\n",
        "gdzie: $G_{\\delta_s}(y)$ jest funkcją Gaussa z parametrem skali $\\delta_s$.\n",
        "\n",
        "Opisaną powyżej filtrację realizowaliśmy w ramach ćwiczenia \"Przetwarzanie wstępne. Filtracja kontekstowa.\""
      ],
      "metadata": {
        "collapsed": false,
        "pycharm": {
          "name": "#%% md\n"
        },
        "id": "dLH690bzFpiS"
      }
    },
    {
      "cell_type": "markdown",
      "source": [
        "## Filtracja bilateralna\n",
        "\n",
        "Wadą klasycznego splotu jest brak adaptacji współczynników filtra do lokalnego otoczenia $\\eta(\\mathbf{x})$ filtrowanego punktu $\\mathbf{x}$.\n",
        "Oznacza to wykorzystanie tych samych współczynników filtra $\\psi$ niezależnie od tego czy otoczenie jest względnie jednorodne lub zawiera krawędzie obiektów (w tym przypadku dochodzi do \"rozmywania\" krawędzi).\n",
        "Filtracja bilateralna uwzględnia lokalne otoczenie filtrowanego punktu, w ten sposób, że parametry filtra zmieniają się w zależności od \"wyglądu\" otocznia.\n",
        "\n",
        "\n",
        "Współczynniki filtra obliczane są na podstawie odległości filtrowanego punktu $\\mathbf{x}$ od każdego punktu otoczenia $\\mathbf{p}$ w dziedzinie przestrzennej obrazu (tak jak przy typowym filtrze np. Gaussa) oraz odległości punktów w przeciwdziedzinie obrazu (np. na podstawie różnicy w jasności pikseli dla obrazu w odcieniach szarości):\n",
        "\n",
        "\\begin{equation}\n",
        "\\hat{I}(\\mathbf{x}) = \\frac{1}{W_N}\\sum_{\\mathbf{p} \\in \\eta(\\mathbf{x})} \\psi(||\\mathbf{p}-\\mathbf{x}||) \\gamma(|I(\\mathbf{p}) - I(\\mathbf{x})|) I(\\mathbf{p})\n",
        "\\end{equation}\n",
        "gdzie:\n",
        "- $W_N$ jest współczynnikiem normalizującym filtr,\n",
        "- $\\gamma$ jest funkcją odległości w przeciwdziedzinie obrazu, np. $\\gamma(y)=\\exp(-\\frac{y^2}{2\\delta_r^2})$\n",
        "- parametr $\\delta_r$ jest utożsamiany z poziomem szumu w obrazie i należy go dobrać w sposób empiryczny.\n",
        "\n",
        "Proszę chwilę zastanowić się nad powyższym równaniem, w szczególności nad funkcją $\\gamma$. Proszę wyznaczyć, jaka będzie wartość funkcji dla pikseli podobnych (różnica 0, 1, 2), a skrajnie różnych (255, 200).\n",
        "\n",
        "##  Realizacja ćwiczenia\n",
        "\n",
        "### Wczytanie danych\n",
        "\n",
        "1. Wczytaj dane z pliku *MR_data.mat*. W tym celu wykorzystaj funkcję `loadmat` z pakietu scipy:\n",
        "        from scipy.io import loadmat\n",
        "        mat = loadmat('MR_data.mat')\n",
        "\n",
        "2. Wczytany plik zawiera 5 obrazów: *I_noisefree*, *I_noisy1*, *I_noisy2*, *I_noisy3* oraz *I_noisy4*. Odczytać je można w następujący sposób:\n",
        "        Input = mat['I_noisy1']\n",
        "\n",
        "3.Wyświetl wybrany obraz z pliku *MR_data.mat*. Zagadka - co to za obrazowanie medyczne?"
      ],
      "metadata": {
        "collapsed": false,
        "pycharm": {
          "name": "#%% md\n"
        },
        "id": "y-c-Phd8FpiU"
      }
    },
    {
      "cell_type": "code",
      "execution_count": null,
      "outputs": [],
      "source": [
        "import cv2\n",
        "import os\n",
        "import requests\n",
        "from matplotlib import pyplot as plt\n",
        "import numpy as np\n",
        "from scipy import signal\n",
        "from scipy.io import loadmat\n",
        "import math\n",
        "\n",
        "url = 'https://raw.githubusercontent.com/vision-agh/poc_sw/master/07_Bilateral/'\n",
        "\n",
        "fileNames = [\"MR_data.mat\"]\n",
        "for fileName in fileNames:\n",
        "  if not os.path.exists(fileName):\n",
        "      r = requests.get(url + fileName, allow_redirects=True)\n",
        "      open(fileName, 'wb').write(r.content)\n",
        "\n",
        "#TODO Samodzielna\n",
        "mr_data = loadmat(\"MR_data.mat\")\n",
        "img = mr_data[\"I_noisy2\"]\n",
        "plt.imshow(img, cmap=\"gray\")\n"
      ],
      "metadata": {
        "pycharm": {
          "name": "#%% Zadanie 1 - wyświetlanie\n"
        },
        "id": "hvi5AJiGFpiV"
      }
    },
    {
      "cell_type": "markdown",
      "source": [
        "### \"Klasyczna\" konwolucja\n",
        "\n",
        "1. Zdefiniuj parametry filtra Gaussowskiego: rozmiar okna i wariancję $\\delta_S$.\n",
        "2. Oblicz współczynniki filtra na podstawie zdefiniowanych parametrów (najprościej w ramach podwójnej pętli for).\n",
        "2. Sprawdź ich poprawność i zwizualizuj filtr (tak jak w ćwiczeniu pt. \"Przetwarzanie wstępne. Filtracja kontekstowa.\").\n",
        "3. Wykonaj kopię obrazu wejściowego: `IConv = Input.copy()`\n",
        "4. Wykonaj podwójną pętlę po obrazie. Pomiń ramkę, dla której nie jest zdefiniowany kontekst o wybranej wielkości.\n",
        "5. W każdej iteracji stwórz dwuwymiarową tablicę zawierającą aktualny kontekst.\n",
        "6. Napisz funkcję, która będzie obliczała nową wartość piksela.\n",
        "Argumentem tej funkcji są aktualnie przetwarzane okno i współczynniki filtra.\n",
        "7. Obliczoną wartość przypisz do odpowiedniego piksela kopii obrazu wejściowego.\n",
        "8. Wyświetl wynik filtracji.\n",
        "9. Porównaj wynik z obrazem oryginalnym."
      ],
      "metadata": {
        "collapsed": false,
        "pycharm": {
          "name": "#%% md\n"
        },
        "id": "b2dsan_AFpiX"
      }
    },
    {
      "cell_type": "code",
      "execution_count": null,
      "outputs": [],
      "source": [
        "#TODO Samodzielna\n",
        "import numpy as np\n",
        "\n",
        "def fgaussian(size: int, sigma: float):\n",
        "    # Ustawienie rozmiarów macierzy (zakładamy kwadratowy filtr)\n",
        "    m = n = size\n",
        "    # Wyznaczenie środka filtra (indeksy środka w macierzy)\n",
        "    h, k = m // 2, n // 2\n",
        "    # Tworzenie siatki współrzędnych x i y w zakresie od -h do h oraz od -k do k\n",
        "    x, y = np.mgrid[-h : h + 1, -k : k + 1]\n",
        "    # Obliczanie wartości Gaussa dla każdego punktu na siatce\n",
        "    g = np.exp(-(x**2 + y**2) / (2 * sigma**2))\n",
        "    # Normalizacja filtra - suma wszystkich wartości w filtrze będzie równa 1\n",
        "    return g / g.sum()\n"
      ],
      "metadata": {
        "pycharm": {
          "name": "#%% Zadanie 2 - konwolucja\n"
        },
        "id": "EL5qWflAFpiY"
      }
    },
    {
      "cell_type": "code",
      "source": [
        "def classic_convolution(img, window: int, sigma: float):\n",
        "    # Tworzenie filtra Gaussowskiego o zadanym rozmiarze i wariancji\n",
        "    kernel = fgaussian(window, sigma)\n",
        "\n",
        "    # Kopiowanie obrazu wejściowego (żeby nie modyfikować oryginału)\n",
        "    image = img.copy()\n",
        "\n",
        "    # Tworzenie nowego obrazu z wypełnionymi zerami, aby dodać ramkę (padding)\n",
        "    # Rozmiar obrazu zostaje zwiększony o rozmiar okna filtra - 1\n",
        "    image_padded = np.zeros((image.shape[0] + window - 1, image.shape[1] + window - 1))\n",
        "\n",
        "    # Umieszczanie oryginalnego obrazu wewnątrz powiększonego obrazu z paddingiem\n",
        "    image_padded[\n",
        "        (window - 1) // 2 : -(window - 1) // 2, (window - 1) // 2 : -(window - 1) // 2\n",
        "    ] = image\n",
        "\n",
        "    # Inicjalizacja pustej tablicy na wynik konwolucji (ten sam rozmiar co obraz wejściowy)\n",
        "    result = np.zeros_like(image)\n",
        "\n",
        "    # Podwójna pętla iterująca przez każdy piksel obrazu wejściowego\n",
        "    for i in range(0, image.shape[1]):  # Iteracja po kolumnach\n",
        "        for j in range(0, image.shape[0]):  # Iteracja po wierszach\n",
        "            # Wycinanie kontekstowego okna (obszaru otaczającego piksel)\n",
        "            # Mnożenie go przez filtr Gaussowski i sumowanie wartości\n",
        "            result[j, i] = (kernel * image_padded[j : j + window, i : i + window]).sum()\n",
        "\n",
        "    # Zwracanie obrazu po zastosowaniu filtra\n",
        "    return result"
      ],
      "metadata": {
        "id": "upTkMbAZtxrI"
      },
      "execution_count": null,
      "outputs": []
    },
    {
      "cell_type": "code",
      "source": [
        "# Wizualizacja wyniku\n",
        "fig, axs = plt.subplots(1, 2, figsize=(15, 15))  # Tworzenie dwóch osi wykresu\n",
        "axs[0].imshow(img, cmap=\"gray\")  # Wyświetlanie oryginalnego obrazu\n",
        "axs[0].set_title(\"Oryginalny obraz\")\n",
        "axs[1].imshow(classic_convolution(img, 7, 1), cmap=\"gray\")  # Wyświetlanie obrazu po konwolucji\n",
        "axs[1].set_title(\"Obraz po filtracji Gaussowskiej\")\n",
        "plt.show()  # Wyświetlenie wykresu"
      ],
      "metadata": {
        "id": "KXwtsXsPtzti"
      },
      "execution_count": null,
      "outputs": []
    },
    {
      "cell_type": "markdown",
      "source": [
        "### Filtracja bilateralna\n",
        "\n",
        "1. Zdefiniuj dodatkowy parametr: wariancję $\\delta_R$.\n",
        "3. Wykonaj kopię obrazu wejściowego: `IBilateral = Input.copy()`\n",
        "4. Wykonaj podwójną pętlę po obrazie. Pomiń ramkę, dla której nie jest zdefiniowany kontekst o wybranej wielkości.\n",
        "5. W każdej iteracji stwórz dwuwymiarową tablicę zawierającą aktualny kontekst.\n",
        "6. Napisz funkcję, która będzie obliczała nową wartość piksela.\n",
        "Argumentami funkcji są aktualnie przetwarzane okno, współczynniki filtra gausowskiego (takie same jak wcześniej) i wariancja $\\delta_R$.\n",
        "7. Oblicz odległość w przeciwdziedzinie (dla wartości pikseli).\n",
        "8. Oblicz funkcję Gaussa dla obliczonych odległości z zadanym parametrem.\n",
        "9. Wykonaj normalizację obliczonych współczynników.\n",
        "10. Obliczoną wartość przypisz do odpowiedniego piksela kopii obrazu wejściowego.\n",
        "11. Wyświetl wynik filtracji.\n",
        "12. Porównaj wynik z obrazem oryginalnym."
      ],
      "metadata": {
        "collapsed": false,
        "pycharm": {
          "name": "#%% md\n"
        },
        "id": "0mp0PQrdFpiZ"
      }
    },
    {
      "cell_type": "code",
      "execution_count": null,
      "outputs": [],
      "source": [
        "def bilateral_convolution(image, W: int, sigma: float, noise_param: float):\n",
        "    # Generowanie filtra Gaussowskiego (część przestrzenna filtra bilateralnego)\n",
        "    kernel = fgaussian(W, sigma)\n",
        "\n",
        "    # Wymiary obrazu wejściowego\n",
        "    height, width = image.shape\n",
        "\n",
        "    # Inicjalizacja obrazu wynikowego o tych samych wymiarach co obraz wejściowy\n",
        "    result = np.zeros((height, width))\n",
        "\n",
        "    # Wartość określająca połowę rozmiaru okna (rozmiar ramki)\n",
        "    size = W // 2\n",
        "\n",
        "    # Generowanie filtra Gaussowskiego, który zostanie użyty w dalszych obliczeniach\n",
        "    gauss = fgaussian(W, sigma)\n",
        "\n",
        "    # Podwójna pętla iterująca po pikselach obrazu (z uwzględnieniem ramki)\n",
        "    for i in range(size, height - size):  # Iteracja po wierszach\n",
        "        for j in range(size, width - size):  # Iteracja po kolumnach\n",
        "            # Wycinanie okna kontekstowego (fragment obrazu wokół danego piksela)\n",
        "            context = image[i - size : i + size + 1, j - size : j + size + 1]\n",
        "\n",
        "            # Inicjalizacja zmiennych pomocniczych:\n",
        "            # W_n - waga normalizacyjna\n",
        "            # new_value - nowa wartość piksela po filtracji\n",
        "            W_n = 0\n",
        "            new_value = 0\n",
        "\n",
        "            # Podwójna pętla po pikselach w oknie kontekstowym\n",
        "            for x in range(W):  # Iteracja po wierszach okna\n",
        "                for y in range(W):  # Iteracja po kolumnach okna\n",
        "                    # Obliczanie różnicy jasności pomiędzy pikselem w oknie a aktualnym pikselem\n",
        "                    light_diff = np.abs(int(context[x, y]) - int(image[i, j])).astype(np.int8)\n",
        "\n",
        "                    # Obliczanie wag:\n",
        "                    # 1. Zależność od różnicy jasności (część intensywności filtra)\n",
        "                    # 2. Waga Gaussowska (część przestrzenna filtra)\n",
        "                    temp = (\n",
        "                        np.exp((-1) * (((light_diff) ** 2) / (2 * (noise_param**2))))\n",
        "                        * gauss[x, y]\n",
        "                    )\n",
        "\n",
        "                    # Sumowanie wag normalizacyjnych\n",
        "                    W_n += temp\n",
        "\n",
        "                    # Dodawanie wkładu pikseli ważonych do nowej wartości\n",
        "                    new_value += temp * context[x, y]\n",
        "\n",
        "            # Normalizacja wyniku - dzielenie przez sumę wag\n",
        "            new_value = new_value / W_n if W_n != 0 else 0\n",
        "\n",
        "            # Zapisanie obliczonej wartości do obrazu wynikowego\n",
        "            result[i, j] = new_value\n",
        "\n",
        "    # Zwrócenie obrazu po zastosowaniu filtra bilateralnego\n",
        "    return result\n"
      ],
      "metadata": {
        "pycharm": {
          "name": "#%%\n"
        },
        "id": "GUyUvRh2Fpia"
      }
    },
    {
      "cell_type": "code",
      "source": [
        "fileNames = [\"I_noisefree\", \"I_noisy1\", \"I_noisy2\", \"I_noisy3\", \"I_noisy4\"]\n",
        "\n",
        "f, axs = plt.subplots(5, 3, figsize=(20, 20))\n",
        "for i, fileName in enumerate(fileNames):\n",
        "    img = mr_data[fileName]\n",
        "    axs[i, 0].imshow(img, cmap=\"gray\")\n",
        "    axs[i, 0].set_title(fileName)\n",
        "    axs[i, 0].axis(\"off\")\n",
        "    axs[i, 1].imshow(classic_convolution(img, 7, 1), cmap=\"gray\")\n",
        "    axs[i, 1].set_title(\"classic\")\n",
        "    axs[i, 1].axis(\"off\")\n",
        "    axs[i, 2].imshow(bilateral_convolution(img, 7, 1, 30), cmap=\"gray\")\n",
        "    axs[i, 2].set_title(\"bilateral\")\n",
        "    axs[i, 2].axis(\"off\")\n",
        "plt.tight_layout()\n",
        "plt.show()"
      ],
      "metadata": {
        "id": "Gu_Oj7o4t48w"
      },
      "execution_count": null,
      "outputs": []
    }
  ],
  "metadata": {
    "kernelspec": {
      "display_name": "Python 3",
      "language": "python",
      "name": "python3"
    },
    "language_info": {
      "codemirror_mode": {
        "name": "ipython",
        "version": 3
      },
      "file_extension": ".py",
      "mimetype": "text/x-python",
      "name": "python",
      "nbconvert_exporter": "python",
      "pygments_lexer": "ipython3",
      "version": "3.8.3"
    },
    "colab": {
      "provenance": []
    }
  },
  "nbformat": 4,
  "nbformat_minor": 0
}